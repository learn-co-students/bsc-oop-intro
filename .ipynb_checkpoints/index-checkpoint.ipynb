{
 "cells": [
  {
   "cell_type": "markdown",
   "id": "d6c36b43-920f-4d60-9e6a-4e78cb3138f3",
   "metadata": {},
   "source": [
    "# Intro to OOP"
   ]
  },
  {
   "cell_type": "code",
   "execution_count": 5,
   "id": "f6e26b2d-15a6-43f9-be46-389734757bf7",
   "metadata": {},
   "outputs": [],
   "source": [
    "import pandas as pd\n",
    "import matplotlib.pyplot as plt"
   ]
  },
  {
   "cell_type": "code",
   "execution_count": 92,
   "id": "8113b41c-24f7-49d4-a6a8-92dc8ccf03e7",
   "metadata": {},
   "outputs": [
    {
     "data": {
      "text/html": [
       "<div>\n",
       "<style scoped>\n",
       "    .dataframe tbody tr th:only-of-type {\n",
       "        vertical-align: middle;\n",
       "    }\n",
       "\n",
       "    .dataframe tbody tr th {\n",
       "        vertical-align: top;\n",
       "    }\n",
       "\n",
       "    .dataframe thead th {\n",
       "        text-align: right;\n",
       "    }\n",
       "</style>\n",
       "<table border=\"1\" class=\"dataframe\">\n",
       "  <thead>\n",
       "    <tr style=\"text-align: right;\">\n",
       "      <th></th>\n",
       "      <th>id</th>\n",
       "      <th>date</th>\n",
       "      <th>price</th>\n",
       "      <th>bedrooms</th>\n",
       "      <th>bathrooms</th>\n",
       "      <th>sqft_living</th>\n",
       "      <th>sqft_lot</th>\n",
       "      <th>floors</th>\n",
       "      <th>waterfront</th>\n",
       "      <th>view</th>\n",
       "      <th>...</th>\n",
       "      <th>grade</th>\n",
       "      <th>sqft_above</th>\n",
       "      <th>sqft_basement</th>\n",
       "      <th>yr_built</th>\n",
       "      <th>yr_renovated</th>\n",
       "      <th>zipcode</th>\n",
       "      <th>lat</th>\n",
       "      <th>long</th>\n",
       "      <th>sqft_living15</th>\n",
       "      <th>sqft_lot15</th>\n",
       "    </tr>\n",
       "  </thead>\n",
       "  <tbody>\n",
       "    <tr>\n",
       "      <th>0</th>\n",
       "      <td>7129300520</td>\n",
       "      <td>10/13/2014</td>\n",
       "      <td>221900.0</td>\n",
       "      <td>3</td>\n",
       "      <td>1.00</td>\n",
       "      <td>1180</td>\n",
       "      <td>5650</td>\n",
       "      <td>1.0</td>\n",
       "      <td>NaN</td>\n",
       "      <td>0.0</td>\n",
       "      <td>...</td>\n",
       "      <td>7</td>\n",
       "      <td>1180</td>\n",
       "      <td>0.0</td>\n",
       "      <td>1955</td>\n",
       "      <td>0.0</td>\n",
       "      <td>98178</td>\n",
       "      <td>47.5112</td>\n",
       "      <td>-122.257</td>\n",
       "      <td>1340</td>\n",
       "      <td>5650</td>\n",
       "    </tr>\n",
       "    <tr>\n",
       "      <th>1</th>\n",
       "      <td>6414100192</td>\n",
       "      <td>12/9/2014</td>\n",
       "      <td>538000.0</td>\n",
       "      <td>3</td>\n",
       "      <td>2.25</td>\n",
       "      <td>2570</td>\n",
       "      <td>7242</td>\n",
       "      <td>2.0</td>\n",
       "      <td>0.0</td>\n",
       "      <td>0.0</td>\n",
       "      <td>...</td>\n",
       "      <td>7</td>\n",
       "      <td>2170</td>\n",
       "      <td>400.0</td>\n",
       "      <td>1951</td>\n",
       "      <td>1991.0</td>\n",
       "      <td>98125</td>\n",
       "      <td>47.7210</td>\n",
       "      <td>-122.319</td>\n",
       "      <td>1690</td>\n",
       "      <td>7639</td>\n",
       "    </tr>\n",
       "    <tr>\n",
       "      <th>2</th>\n",
       "      <td>5631500400</td>\n",
       "      <td>2/25/2015</td>\n",
       "      <td>180000.0</td>\n",
       "      <td>2</td>\n",
       "      <td>1.00</td>\n",
       "      <td>770</td>\n",
       "      <td>10000</td>\n",
       "      <td>1.0</td>\n",
       "      <td>0.0</td>\n",
       "      <td>0.0</td>\n",
       "      <td>...</td>\n",
       "      <td>6</td>\n",
       "      <td>770</td>\n",
       "      <td>0.0</td>\n",
       "      <td>1933</td>\n",
       "      <td>NaN</td>\n",
       "      <td>98028</td>\n",
       "      <td>47.7379</td>\n",
       "      <td>-122.233</td>\n",
       "      <td>2720</td>\n",
       "      <td>8062</td>\n",
       "    </tr>\n",
       "    <tr>\n",
       "      <th>3</th>\n",
       "      <td>2487200875</td>\n",
       "      <td>12/9/2014</td>\n",
       "      <td>604000.0</td>\n",
       "      <td>4</td>\n",
       "      <td>3.00</td>\n",
       "      <td>1960</td>\n",
       "      <td>5000</td>\n",
       "      <td>1.0</td>\n",
       "      <td>0.0</td>\n",
       "      <td>0.0</td>\n",
       "      <td>...</td>\n",
       "      <td>7</td>\n",
       "      <td>1050</td>\n",
       "      <td>910.0</td>\n",
       "      <td>1965</td>\n",
       "      <td>0.0</td>\n",
       "      <td>98136</td>\n",
       "      <td>47.5208</td>\n",
       "      <td>-122.393</td>\n",
       "      <td>1360</td>\n",
       "      <td>5000</td>\n",
       "    </tr>\n",
       "    <tr>\n",
       "      <th>4</th>\n",
       "      <td>1954400510</td>\n",
       "      <td>2/18/2015</td>\n",
       "      <td>510000.0</td>\n",
       "      <td>3</td>\n",
       "      <td>2.00</td>\n",
       "      <td>1680</td>\n",
       "      <td>8080</td>\n",
       "      <td>1.0</td>\n",
       "      <td>0.0</td>\n",
       "      <td>0.0</td>\n",
       "      <td>...</td>\n",
       "      <td>8</td>\n",
       "      <td>1680</td>\n",
       "      <td>0.0</td>\n",
       "      <td>1987</td>\n",
       "      <td>0.0</td>\n",
       "      <td>98074</td>\n",
       "      <td>47.6168</td>\n",
       "      <td>-122.045</td>\n",
       "      <td>1800</td>\n",
       "      <td>7503</td>\n",
       "    </tr>\n",
       "  </tbody>\n",
       "</table>\n",
       "<p>5 rows × 21 columns</p>\n",
       "</div>"
      ],
      "text/plain": [
       "           id        date     price  bedrooms  bathrooms  sqft_living  \\\n",
       "0  7129300520  10/13/2014  221900.0         3       1.00         1180   \n",
       "1  6414100192   12/9/2014  538000.0         3       2.25         2570   \n",
       "2  5631500400   2/25/2015  180000.0         2       1.00          770   \n",
       "3  2487200875   12/9/2014  604000.0         4       3.00         1960   \n",
       "4  1954400510   2/18/2015  510000.0         3       2.00         1680   \n",
       "\n",
       "   sqft_lot  floors  waterfront  view  ...  grade  sqft_above  sqft_basement  \\\n",
       "0      5650     1.0         NaN   0.0  ...      7        1180            0.0   \n",
       "1      7242     2.0         0.0   0.0  ...      7        2170          400.0   \n",
       "2     10000     1.0         0.0   0.0  ...      6         770            0.0   \n",
       "3      5000     1.0         0.0   0.0  ...      7        1050          910.0   \n",
       "4      8080     1.0         0.0   0.0  ...      8        1680            0.0   \n",
       "\n",
       "  yr_built  yr_renovated  zipcode      lat     long  sqft_living15  sqft_lot15  \n",
       "0     1955           0.0    98178  47.5112 -122.257           1340        5650  \n",
       "1     1951        1991.0    98125  47.7210 -122.319           1690        7639  \n",
       "2     1933           NaN    98028  47.7379 -122.233           2720        8062  \n",
       "3     1965           0.0    98136  47.5208 -122.393           1360        5000  \n",
       "4     1987           0.0    98074  47.6168 -122.045           1800        7503  \n",
       "\n",
       "[5 rows x 21 columns]"
      ]
     },
     "execution_count": 92,
     "metadata": {},
     "output_type": "execute_result"
    }
   ],
   "source": [
    "df = pd.read_csv('data/housing_data.csv')\n",
    "df.head()"
   ]
  },
  {
   "cell_type": "markdown",
   "id": "bcc6f99a-3b96-41f3-af0e-83f769038ab6",
   "metadata": {},
   "source": [
    "## Python classes"
   ]
  },
  {
   "cell_type": "markdown",
   "id": "36e142f7-4c94-4f89-a7f8-9a9240521d11",
   "metadata": {},
   "source": [
    "At the risk of oversimplifying, we can think of a `class` as a folder for storing functions and data."
   ]
  },
  {
   "cell_type": "code",
   "execution_count": 93,
   "id": "c57952d4-5514-4ccc-99e5-7361606301d2",
   "metadata": {},
   "outputs": [],
   "source": [
    "class Folder:\n",
    "    pass"
   ]
  },
  {
   "cell_type": "markdown",
   "id": "4670e3e3-00b9-458a-b52f-ef521ac2084b",
   "metadata": {},
   "source": [
    "Now we can add things to the class like so:"
   ]
  },
  {
   "cell_type": "code",
   "execution_count": 94,
   "id": "0901f9a7-3b13-4bd2-9f8c-1f3f2b5092a8",
   "metadata": {},
   "outputs": [],
   "source": [
    "# Initialize an instance of the class\n",
    "folder = Folder()\n",
    "\n",
    "# Create some data to store in the class\n",
    "data = [1,2,3]\n",
    "folder.data = data"
   ]
  },
  {
   "cell_type": "markdown",
   "id": "5c8c4827-9733-4ba3-b0e3-1fc61df3599d",
   "metadata": {},
   "source": [
    "Now we can access the data by typing the `folder.data`"
   ]
  },
  {
   "cell_type": "code",
   "execution_count": 95,
   "id": "da489d35-4a1c-497f-bee5-40d57dc050cb",
   "metadata": {},
   "outputs": [
    {
     "data": {
      "text/plain": [
       "[1, 2, 3]"
      ]
     },
     "execution_count": 95,
     "metadata": {},
     "output_type": "execute_result"
    }
   ],
   "source": [
    "folder.data"
   ]
  },
  {
   "cell_type": "markdown",
   "id": "dd8f2bd7-f621-4ddb-9490-d6bf55f57130",
   "metadata": {},
   "source": [
    "We can do this with functions too!"
   ]
  },
  {
   "cell_type": "code",
   "execution_count": 96,
   "id": "06064026-aa5f-41e7-9491-42c9b023b253",
   "metadata": {},
   "outputs": [],
   "source": [
    "def example():\n",
    "    return 2\n",
    "\n",
    "folder.example = example"
   ]
  },
  {
   "cell_type": "markdown",
   "id": "7097d97b-7ce9-4a36-85c6-4e0c74f1fcb1",
   "metadata": {},
   "source": [
    "Now we can call the function!"
   ]
  },
  {
   "cell_type": "code",
   "execution_count": 97,
   "id": "246918c8-9af9-4482-91d2-83dcd5e3fa21",
   "metadata": {},
   "outputs": [
    {
     "data": {
      "text/plain": [
       "2"
      ]
     },
     "execution_count": 97,
     "metadata": {},
     "output_type": "execute_result"
    }
   ],
   "source": [
    "folder.example()"
   ]
  },
  {
   "cell_type": "markdown",
   "id": "d9c88a36-4c56-4bfc-99d5-548cb6b56ba8",
   "metadata": {},
   "source": [
    "### Above was a light intro to a class, but that is *not* typically how we use them.\n",
    "\n",
    "We usually define what is in a class upfront, so what is inside the class will already be there when the class is initialized.\n",
    "\n",
    "We would define the above class like so:"
   ]
  },
  {
   "cell_type": "code",
   "execution_count": 102,
   "id": "3f17e97e-088a-4380-be77-755c413c4c15",
   "metadata": {},
   "outputs": [],
   "source": [
    "class Folder:\n",
    "    \n",
    "    def __init__(self):\n",
    "        self.data = [1,2,3]\n",
    "        \n",
    "    def example(self):\n",
    "        return 2"
   ]
  },
  {
   "cell_type": "code",
   "execution_count": 103,
   "id": "9fba718f-f195-4f35-a529-7f13814b6af5",
   "metadata": {},
   "outputs": [
    {
     "name": "stdout",
     "output_type": "stream",
     "text": [
      "[1, 2, 3]\n",
      "2\n"
     ]
    }
   ],
   "source": [
    "defined_folder = Folder()\n",
    "print(defined_folder.data)\n",
    "print(defined_folder.example())"
   ]
  },
  {
   "cell_type": "markdown",
   "id": "4108d14f-30ae-4ef7-a98c-4e9f04082a8c",
   "metadata": {},
   "source": [
    "### Let's break down what's happening above <img src='images/eyesup.png' style=\"height:40px\">\n",
    "\n",
    "To define a class:\n",
    "1. type `class` followed by the name of the class and colons. \n",
    "2. Everything inside the class is indented once\n",
    "3. Whenever you define a function inside a class, you have to pass as the first parameter a variable that represents that actual class object. The standard convention is to use the word `self`. \n",
    "\n",
    "\n",
    "### New Vocabulary\n",
    "\n",
    "* When a function is inside a class, it is called a **method**.\n",
    "    * In the `Folder` class above, `example` is a *method*.\n",
    "    * Quick rule of thumb, if the thing needs parentheses, it's a method.\n",
    "* When a variable is stored inside a class, it is called an **attribute**.\n",
    "    * In the `Folder` class above, `data` is an *attribute*.\n",
    "    * Quick rule of thumb, if the thing doesn't need parentheses, it's an attribute.\n",
    "* You have heard us say the phrase \"initialize a model\". We **initialize** when we create an **instance** of a class\n",
    "    * In the code above, `defined_folder = Folder()` is where we *initialize*, and the variable `defined_folder` is considered an *instance* of the `Folder` class.\n",
    "\n",
    "\n",
    "### <img src='images/what.jpeg' style=\"height:40px\"> WTF is `__init__`?????\n",
    "\n",
    "`__init__` is a something called a **[Python Magic Method](https://rszalski.github.io/magicmethods/)**. For now, we are not going to talk too much about magic methods, but the idea of magic methods is that they do fancy-things™. `__init__`'s fancy thing is that everything inside the `__init__` method activates *when an instance of a class is initialized*. \n",
    "* By a land slide, `__init__` is the most common magic method used.\n",
    "    * If you have code that you want to be run when an instance is created, you will probably need an `__init__` method.\n",
    "    * Basic use case of `__init__` is creating variables that the methods of a class will end up used. \n",
    "\n",
    "**Other stuff**\n",
    "* magic methods are always surrounded by double underscores.\n",
    "* The word *method* is in the phrase \"Python Magic Method\". ie, it is just a class function.\n",
    "* Magic methods *truly* are magic. I highly recommend checking out the linked article!"
   ]
  },
  {
   "cell_type": "markdown",
   "id": "148f94f0-bff7-4590-b94c-d106d0ee847c",
   "metadata": {},
   "source": [
    "## We can make our classes speak to each other!\n",
    "\n",
    "Intro to **inheritance**. \n",
    "\n",
    "It's helpful to think of code as instructions for managing different situations. Sometimes we have code that applies to *all* situations, and then code that we want to apply to specific situations. That's where inheritance can become really handy. "
   ]
  },
  {
   "cell_type": "code",
   "execution_count": 118,
   "id": "e17c613e-8fed-45bf-b8c2-bffde65ff0f9",
   "metadata": {},
   "outputs": [],
   "source": [
    "class EveryWeekDay:\n",
    "    \n",
    "    def __init__(self):\n",
    "        self.wake_up = '7:30am'\n",
    "        self.bed_time = '11:00pm'\n",
    "        self.lunch = '12:00pm'\n",
    "        self.other_tasks = None\n",
    "        self.morning_tasks = ['brush teeth', 'shower', 'caffeine', 'drive to work', 'say hi to class', 'release checkpoint']\n",
    "        self.evening_tasks = ['record warmdown video', 'eat dinner', 'play smash brothers', 'do dishes', 'brush teeth']\n",
    "        \n",
    "    def print_schedule(self):\n",
    "        print('====== Morning ======')\n",
    "        print('Alarm:', self.wake_up)\n",
    "        for task in self.morning_tasks:\n",
    "            print('    -', task)\n",
    "        print('=====================')\n",
    "        print('Lunch time:', self.lunch)\n",
    "        print('=====================')\n",
    "        print()\n",
    "        if self.other_tasks:\n",
    "            print('==== Other Tasks ====')\n",
    "            for task in self.other_tasks:\n",
    "                print('    -', task)\n",
    "            print('=====================')\n",
    "        print()\n",
    "        print('====== Evening ======')\n",
    "        for task in self.evening_tasks:\n",
    "            print('    -', task)\n",
    "        print('=====================')\n",
    "        print()\n",
    "        print('Bed time:', self.bed_time)\n",
    "        \n",
    "class Wendesday(EveryWeekDay):\n",
    "    \n",
    "    def __init__(self):\n",
    "        EveryWeekDay.__init__(self)\n",
    "        self.evening_tasks.append('go to gym')\n",
    "        \n",
    "class Thursday(EveryWeekDay):\n",
    "    \n",
    "    def __init__(self):\n",
    "        EveryWeekDay.__init__(self)\n",
    "        self.bed_time = '12:00am'\n",
    "        \n",
    "class EndOfPhaseFriday(EveryWeekDay):\n",
    "    \n",
    "    def __init__(self):\n",
    "        EveryWeekDay.__init__(self)\n",
    "        self.morning_tasks.remove('release checkpoint')\n",
    "        self.morning_tasks.append('release code challenge')\n",
    "        self.other_tasks = ['create project groups']"
   ]
  },
  {
   "cell_type": "code",
   "execution_count": 119,
   "id": "a6c59482-88c5-40cf-bd87-a1a990c923ca",
   "metadata": {},
   "outputs": [
    {
     "name": "stdout",
     "output_type": "stream",
     "text": [
      "====== Morning ======\n",
      "Alarm: 7:30am\n",
      "    - brush teeth\n",
      "    - shower\n",
      "    - caffeine\n",
      "    - drive to work\n",
      "    - say hi to class\n",
      "    - release code challenge\n",
      "=====================\n",
      "Lunch time: 12:00pm\n",
      "=====================\n",
      "\n",
      "==== Other Tasks ====\n",
      "    - create project groups\n",
      "=====================\n",
      "\n",
      "====== Evening ======\n",
      "    - record warmdown video\n",
      "    - eat dinner\n",
      "    - play smash brothers\n",
      "    - do dishes\n",
      "    - brush teeth\n",
      "=====================\n",
      "\n",
      "Bed time: 11:00pm\n"
     ]
    }
   ],
   "source": [
    "friday = EndOfPhaseFriday()\n",
    "friday.print_schedule()"
   ]
  },
  {
   "cell_type": "code",
   "execution_count": 85,
   "id": "05008bba-d775-4619-8838-2502367938b0",
   "metadata": {},
   "outputs": [],
   "source": [
    "class VisualizationData:\n",
    "    \n",
    "    def __init__(self, data):\n",
    "        # Create a variable set to the data argument\n",
    "        \n",
    "        # Create a target attribute\n",
    "\n",
    "        \n",
    "    def scatter_dependent(self, column_name):\n",
    "\n",
    "    \n",
    "    def top_5_average_zipcodes(self):\n",
    "\n",
    "    \n",
    "    def map_top_5_zipcodes(self):\n",
    "\n",
    "    \n",
    "class Visualize(VisualizationData):\n",
    "    \n",
    "    def __init__(self, data):\n",
    "\n",
    "        \n",
    "    def figure(self):\n",
    "\n",
    "        \n",
    "    def visual_1(self):\n",
    "\n",
    "        \n",
    "    def visual_2(self):\n",
    "\n",
    "        \n",
    "    def visual_3(self):\n"
   ]
  },
  {
   "cell_type": "code",
   "execution_count": 86,
   "id": "11a08284-a670-47dd-9eb7-9c9b16d86217",
   "metadata": {},
   "outputs": [],
   "source": [
    "viz = Visualize(df)"
   ]
  },
  {
   "cell_type": "code",
   "execution_count": 87,
   "id": "9c95f6f3-4ace-4396-b253-758c67933b4c",
   "metadata": {},
   "outputs": [
    {
     "data": {
      "image/png": "[encoded data removed]",
      "text/plain": [
       "<Figure size 1080x432 with 1 Axes>"
      ]
     },
     "metadata": {
      "needs_background": "light"
     },
     "output_type": "display_data"
    }
   ],
   "source": [
    "viz.visual_1()"
   ]
  },
  {
   "cell_type": "code",
   "execution_count": 88,
   "id": "c1f216d8-7a42-4db9-83bc-24c514fea9d3",
   "metadata": {},
   "outputs": [
    {
     "data": {
      "image/png": "[encoded data removed]",
      "text/plain": [
       "<Figure size 1080x432 with 1 Axes>"
      ]
     },
     "metadata": {
      "needs_background": "light"
     },
     "output_type": "display_data"
    }
   ],
   "source": [
    "viz.visual_2()"
   ]
  },
  {
   "cell_type": "code",
   "execution_count": 89,
   "id": "6e484d2f-0657-4ed0-a0e1-ab66d3256256",
   "metadata": {},
   "outputs": [
    {
     "data": {
      "image/png": "[encoded data removed]",
      "text/plain": [
       "<Figure size 1080x432 with 1 Axes>"
      ]
     },
     "metadata": {
      "needs_background": "light"
     },
     "output_type": "display_data"
    }
   ],
   "source": [
    "viz.visual_3()"
   ]
  },
  {
   "cell_type": "code",
   "execution_count": null,
   "id": "2abd5f46-7afd-4ae8-847c-3d442774ca26",
   "metadata": {},
   "outputs": [],
   "source": []
  }
 ],
 "metadata": {
  "kernelspec": {
   "display_name": "Python 3",
   "language": "python",
   "name": "python3"
  },
  "language_info": {
   "codemirror_mode": {
    "name": "ipython",
    "version": 3
   },
   "file_extension": ".py",
   "mimetype": "text/x-python",
   "name": "python",
   "nbconvert_exporter": "python",
   "pygments_lexer": "ipython3",
   "version": "3.7.4"
  }
 },
 "nbformat": 4,
 "nbformat_minor": 5
}
